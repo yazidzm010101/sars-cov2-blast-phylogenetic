{
 "cells": [
  {
   "cell_type": "code",
   "execution_count": 2,
   "metadata": {},
   "outputs": [],
   "source": [
    "from Bio import AlignIO\n",
    "from Bio import SeqIO\n",
    "from Bio.Align import MultipleSeqAlignment\n",
    "from Bio import Seq\n",
    "from Bio.Phylo.TreeConstruction import DistanceCalculator\n",
    "from Bio.Phylo.TreeConstruction import DistanceTreeConstructor\n",
    "from Bio import Phylo\n",
    "import matplotlib\n",
    "import matplotlib.pyplot as plt\n",
    "import os\n",
    "import re"
   ]
  },
  {
   "cell_type": "code",
   "execution_count": 3,
   "metadata": {},
   "outputs": [],
   "source": [
    "# Tanpa proses MSA, membaca fasta dan memberikan empty padding string sehingga panjang karakter sama\n",
    "def read_fasta_as_alignment(filepath):\n",
    "    records = SeqIO.parse(filepath, 'fasta')\n",
    "    records = list(records)\n",
    "\n",
    "    maxlen = max(len(record.seq) for record in records)\n",
    "\n",
    "    # pad sequences so that they all have the same length\n",
    "    for record in records:  \n",
    "        description = record.description        \n",
    "        label = re.findall(\"\\[label=((\\w+|\\-+)+)\\]\", description)\n",
    "        if (len(label) > 0):        \n",
    "            record.id = label[0][0]\n",
    "        print (label)\n",
    "        print(description)            \n",
    "        if len(record.seq) != maxlen:\n",
    "            sequence = str(record.seq).ljust(maxlen, '.')\n",
    "            record.seq = Seq.Seq(sequence)                                    \n",
    "\n",
    "    assert all(len(record.seq) == maxlen for record in records)\n",
    "    \n",
    "    output_file = './padded-{}.fasta'.format(filepath.split('/')[-1])\n",
    "    with open(output_file, 'w') as f:\n",
    "        SeqIO.write(records, f, 'fasta')\n",
    "    \n",
    "    alignment = AlignIO.read(output_file, 'fasta')\n",
    "    alignment = MultipleSeqAlignment(alignment)\n",
    "    return alignment"
   ]
  },
  {
   "cell_type": "code",
   "execution_count": 4,
   "metadata": {},
   "outputs": [],
   "source": [
    "# input berupa file alignment\n",
    "# format antara \"clustal\" atau \"fasta\"\\\n",
    "# baca selengkapnya di https://biopython.org/docs/1.76/api/Bio.AlignIO.html\n",
    "def read_alignment(filepath, format):\n",
    "    alignment = AlignIO.read(filepath, format)\n",
    "    alignment = MultipleSeqAlignment(alignment)\n",
    "    return alignment"
   ]
  },
  {
   "cell_type": "code",
   "execution_count": 5,
   "metadata": {},
   "outputs": [],
   "source": [
    "# hitung distance matrix dari file alignment\n",
    "def calculate_distance_matrix(aln):\n",
    "    calculator = DistanceCalculator('identity')\n",
    "    distance_matrix = calculator.get_distance(aln)\n",
    "    return distance_matrix"
   ]
  },
  {
   "cell_type": "code",
   "execution_count": 6,
   "metadata": {},
   "outputs": [],
   "source": [
    "# bentuk pohon filogenetik dari distance matrix\n",
    "# method antara \"upgma\" atau \"nj\"\n",
    "# baca di https://homolog.us/Biopython/Bio.Phylo.TreeConstruction.DistanceTreeConstructor.html\n",
    "def construct_tree(dm, method):\n",
    "    constructor = DistanceTreeConstructor()\n",
    "    if (method == \"upgma\"):\n",
    "        tree = constructor.upgma(dm)\n",
    "    else:\n",
    "        tree = constructor.nj(dm)\n",
    "    return tree"
   ]
  },
  {
   "cell_type": "code",
   "execution_count": 7,
   "metadata": {},
   "outputs": [],
   "source": [
    "# label all inner contained text\n",
    "# from each clade using its branch length\n",
    "import re\n",
    "import json\n",
    "def label_func(clade):\n",
    "    name  = clade.name\n",
    "    matches = re.findall(\"Inner\", name)\n",
    "    if (len(matches) > 0):\n",
    "        return '{0:.4f}'.format(clade.branch_length)\n",
    "    return clade.name\n",
    "\n",
    "def label_func_2(clade):\n",
    "    name  = clade.name\n",
    "    matches = re.findall(\"Inner\", name)\n",
    "    if (len(matches) > 0):\n",
    "        if (clade.branch_length > 0.00):\n",
    "            return '{0:.4f}'.format(clade.branch_length)\n",
    "        return '0.0'\n",
    "    return clade.name\n",
    "\n",
    "def label_func_3(clade):\n",
    "    name  = clade.name\n",
    "    branch_length = clade.branch_length\n",
    "    postfix = ''\n",
    "    prefix = ''\n",
    "    matches = re.findall(\"^Inner\", name)\n",
    "    if (len(matches) == 0):\n",
    "        postfix = ' - ' + name\n",
    "    if (branch_length > 0):\n",
    "        prefix = '{0:.4f}'.format(branch_length)\n",
    "    return prefix + postfix\n",
    "\n",
    "#lcl|OR184928.1_cds_WJJ80277.1_1\n",
    "def label_func_by_jsonref(clade, ref):\n",
    "    branch_length = clade.branch_length\n",
    "    pattern = \"^lcl\\|([\\w\\.]+)_cds\"\n",
    "    matches = re.findall(pattern, clade.name)\n",
    "    labels = []\n",
    "    if (branch_length > 0):\n",
    "        labels.append('{0:.4f}'.format(branch_length))\n",
    "    if (len(matches) > 0):\n",
    "        try:\n",
    "            index = str(matches[0])\n",
    "            labels.append(ref[index])\n",
    "        except:\n",
    "            labels.append(clade.name)\n",
    "    return \" - \".join(labels)"
   ]
  }
 ],
 "metadata": {
  "kernelspec": {
   "display_name": "s2-gnome-sequence-research",
   "language": "python",
   "name": "python3"
  },
  "language_info": {
   "codemirror_mode": {
    "name": "ipython",
    "version": 3
   },
   "file_extension": ".py",
   "mimetype": "text/x-python",
   "name": "python",
   "nbconvert_exporter": "python",
   "pygments_lexer": "ipython3",
   "version": "3.8.18"
  },
  "orig_nbformat": 4
 },
 "nbformat": 4,
 "nbformat_minor": 2
}
