{
 "cells": [
  {
   "cell_type": "markdown",
   "metadata": {},
   "source": [
    "<h4><center>BLAST Query Optimization using<br> Recursive Similarity Search for<br> SARS-CoV-2 Phylogenetic Tree Construction</center></h4>\n",
    "\n",
    "--------\n",
    "\n",
    "This notebook file contains programs using BioPython library which consist of two parts, the functions itself that will be used across the reasearch and the example usage of its functions. "
   ]
  },
  {
   "cell_type": "code",
   "execution_count": null,
   "metadata": {},
   "outputs": [],
   "source": [
    "# library utama yang digunakan pada notebook\n",
    "\n",
    "from Bio import AlignIO\n",
    "from Bio import SeqIO\n",
    "from Bio.Align import MultipleSeqAlignment\n",
    "from Bio import Seq\n",
    "import os\n",
    "import re"
   ]
  },
  {
   "cell_type": "markdown",
   "metadata": {},
   "source": [
    "#### 1. FASTA Header Extractor\n",
    "This code block below were enlisted functions that was used in sequences filter & extraction as a part of lambda function"
   ]
  },
  {
   "cell_type": "code",
   "execution_count": null,
   "metadata": {},
   "outputs": [],
   "source": [
    "\"\"\"\n",
    "fungsi utilitas\n",
    "biasa digunakan pada lambda function\n",
    "atau untuk tujuan lain\n",
    "\"\"\"\n",
    "\n",
    "def extract_gene_name(seq):\n",
    "    description = seq.description\n",
    "    x = re.findall(\"\\[gene=(\\w+)\\]\", description)\n",
    "    return x[0]\n",
    "\n",
    "def extract_protein_name(seq):\n",
    "    description = seq.description\n",
    "    x = re.findall(\"\\[protein=([a-zA-Z\\s0-9]+)\\]\", description)\n",
    "    return x[0]\n",
    "\n",
    "def get_modifier(seq, modifier):\n",
    "    description = seq.description\n",
    "    x = re.findall(\"\\[\" + modifier + \"=([a-zA-Z\\s0-9]+)\\]\", description)\n",
    "    return x[0]"
   ]
  },
  {
   "cell_type": "markdown",
   "metadata": {},
   "source": [
    "#### 2. FASTA Input Processing\n",
    "This code block below were enlisted functions that was used to read, parse, filter, extract, and cut sequences"
   ]
  },
  {
   "cell_type": "code",
   "execution_count": null,
   "metadata": {},
   "outputs": [],
   "source": [
    "\"\"\"\n",
    "membaca sequence dari filepath\n",
    "menjadi list of sequence record\n",
    "\"\"\"\n",
    "def read_sequences(sequence_path):\n",
    "    records = SeqIO.parse(sequence_path)\n",
    "    return list(records)\n",
    "\n",
    "\"\"\" \n",
    "fungsi ini menyatukan dua file sequences\n",
    "menjadi satu dan menjaga terjadi duplikasinya\n",
    "record berdasarkan sequenceID dengan returnnya\n",
    "adalah seqIO records, perlu diingat pada NCBI\n",
    "id record pada FASTA header memiliki format \"lcl | ID_RECORD\"\n",
    " \"\"\"\n",
    "def merge_sequences_list(sequences_list):\n",
    "    merged_records = list()\n",
    "    for sequences in sequences_list:\n",
    "        for seq_record in sequences:\n",
    "            exists = filter(lambda x: x.id == \"lcl | \" + seq_record.id, filtered_records)\n",
    "            if (len(exists) == 0):\n",
    "                merged_records.append(seq_record)\n",
    "    return merged_records\n",
    "\n",
    "\"\"\" \n",
    "fungsi ini membaca multiple file sequences\n",
    "untuk difilter berdasarkan daftar id sequence\n",
    "yang ingin tetap di-keep, di luar id tersebut akan\n",
    "di takeout dengan returnnya adalah seqIO records\n",
    " \"\"\"\n",
    "def filter_sequences_list_by_ids(sequences_list, sequence_ids):\n",
    "    merged_records = list()\n",
    "    for sequences in sequences_list:\n",
    "        for seq_record in sequences:\n",
    "            match_ids = filter(lambda x: x.id == seq_record.id, sequence_ids)\n",
    "            if (len(match_ids) > 0):\n",
    "                merged_exists = filter(filtered_records, lambda x: x.id == \"lcl \" + seq_record.id)\n",
    "                if (len(exists) == 0):\n",
    "                    merged_records.append(seq_record)\n",
    "    return merged_records\n",
    "\n",
    "\n",
    "\"\"\" \n",
    "fungsi ini membaca satu sequence untuk kemudian difilter\n",
    "berdasarkan attribut protein pada fasta header\n",
    " \"\"\"\n",
    "def filter_sequences_by_protein(sequences_list, protein_name):\n",
    "    filtered_records = list()\n",
    "    for sequences in sequences_list:\n",
    "        filtered_sequences = list(filter(lambda x: (extract_protein_name(x) == protein_name), sequences))\n",
    "        filtered_records += filtered_sequences\n",
    "    return filtered_records\n",
    "\n",
    "\"\"\"\n",
    "fungsi ini akan menulis objek list record SeqIO untuk\n",
    "dijadikan menjadi file fasta pada direktori yang diinginkan\n",
    "\"\"\"\n",
    "def write_sequence_into_fasta(sequence, pathname):\n",
    "    with open(pathname, 'w') as f:\n",
    "        SeqIO.write(sequence, f, 'fasta')\n"
   ]
  },
  {
   "cell_type": "markdown",
   "metadata": {},
   "source": [
    "#### Usage Example\n",
    "below is an example code block that was used as a part of\n",
    "the research method"
   ]
  }
 ],
 "metadata": {
  "language_info": {
   "name": "python"
  },
  "orig_nbformat": 4
 },
 "nbformat": 4,
 "nbformat_minor": 2
}
