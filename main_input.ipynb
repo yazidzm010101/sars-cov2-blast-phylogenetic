{
 "cells": [
  {
   "cell_type": "markdown",
   "metadata": {},
   "source": [
    "<h4 align=\"center\">BLAST Query Optimization using<br> Recursive Similarity Search for<br> SARS-CoV-2 Phylogenetic Tree Construction</h4>\n",
    "\n",
    "--------\n",
    "\n",
    "This notebook file contains programs using BioPython library which consist of two parts, the functions itself that will be used across the reasearch and the example usage of its functions. "
   ]
  },
  {
   "cell_type": "code",
   "execution_count": 2,
   "metadata": {},
   "outputs": [],
   "source": [
    "# library utama yang digunakan pada notebook\n",
    "\n",
    "from Bio import AlignIO\n",
    "from Bio import SeqIO\n",
    "from Bio.Align import MultipleSeqAlignment\n",
    "from Bio import Seq\n",
    "import os\n",
    "import re"
   ]
  },
  {
   "cell_type": "markdown",
   "metadata": {},
   "source": [
    "#### 1. FASTA Header Extractor\n",
    "This code block below were enlisted functions that was used in sequences filter & extraction as a part of lambda function"
   ]
  },
  {
   "cell_type": "code",
   "execution_count": 3,
   "metadata": {},
   "outputs": [],
   "source": [
    "\"\"\"\n",
    "fungsi utilitas\n",
    "biasa digunakan pada lambda function\n",
    "atau untuk tujuan lain\n",
    "\"\"\"\n",
    "\n",
    "def extract_gene_name(seq):\n",
    "    description = seq.description\n",
    "    x = re.findall(\"\\[gene=(\\w+)\\]\", description)\n",
    "    return x[0]\n",
    "\n",
    "def extract_protein_name(seq):\n",
    "    description = seq.description\n",
    "    x = re.findall(\"\\[protein=([a-zA-Z\\s0-9]+)\\]\", description)\n",
    "    return x[0]\n",
    "\n",
    "def get_modifier(seq, modifier):\n",
    "    description = seq.description\n",
    "    x = re.findall(\"\\[\" + modifier + \"=([a-zA-Z\\s0-9]+)\\]\", description)\n",
    "    return x[0]"
   ]
  },
  {
   "cell_type": "markdown",
   "metadata": {},
   "source": [
    "#### 2. FASTA Input Processing\n",
    "This code block below were enlisted functions that was used to read, parse, filter, extract, and cut sequences"
   ]
  },
  {
   "cell_type": "code",
   "execution_count": 13,
   "metadata": {},
   "outputs": [],
   "source": [
    "\"\"\"\n",
    "membaca sequence dari filepath\n",
    "menjadi list of sequence record\n",
    "\"\"\"\n",
    "def read_fasta(sequence_path):\n",
    "    records = SeqIO.parse(sequence_path, 'fasta')\n",
    "    return list(records)\n",
    "\n",
    "\"\"\" \n",
    "fungsi ini menyatukan dua file sequences\n",
    "menjadi satu dan menjaga terjadi duplikasinya\n",
    "record berdasarkan sequenceID dengan returnnya\n",
    "adalah seqIO records, perlu diingat pada NCBI\n",
    "id record pada FASTA header memiliki format \"lcl | ID_RECORD\"\n",
    " \"\"\"\n",
    "def merge_sequences_list(sequences_list):\n",
    "    merged_records = list()\n",
    "    for sequences in sequences_list:\n",
    "        for seq_record in sequences:\n",
    "            exists = list(filter(lambda x: x.id == seq_record.id, merged_records))\n",
    "            if (len(exists) == 0):\n",
    "                merged_records.append(seq_record)\n",
    "    return merged_records\n",
    "\n",
    "\"\"\" \n",
    "fungsi ini membaca multiple file sequences\n",
    "untuk difilter berdasarkan daftar id sequence\n",
    "yang ingin tetap di-keep, di luar id tersebut akan\n",
    "di takeout dengan returnnya adalah seqIO records\n",
    " \"\"\"\n",
    "def filter_sequences_list_by_ids(sequences_list, sequence_ids):\n",
    "    merged_records = list()\n",
    "    for sequences in sequences_list:\n",
    "        for seq_record in sequences:\n",
    "            match_ids = filter(lambda x: x.id == seq_record.id, sequence_ids)\n",
    "            if (len(match_ids) > 0):\n",
    "                merged_exists = filter(filtered_records, lambda x: x.id == \"lcl \" + seq_record.id)\n",
    "                if (len(merged_exists) == 0):\n",
    "                    merged_records.append(seq_record)\n",
    "    return merged_records\n",
    "\n",
    "\n",
    "\"\"\" \n",
    "fungsi ini membaca satu sequence untuk kemudian difilter\n",
    "berdasarkan attribut protein pada fasta header\n",
    " \"\"\"\n",
    "def filter_sequences_by_protein(sequences, protein_name):\n",
    "    filtered_records = list(filter(lambda x: (extract_protein_name(x) == protein_name), sequences))\n",
    "    return filtered_records\n",
    "\n",
    "\"\"\"\n",
    "fungsi ini memotong setiap sequence dalam satu list seq records\n",
    "berdasarkan maksimum length yang didefiniskan sebagai parameter\n",
    "\"\"\"\n",
    "def cut_sequences_length(sequences, max_length):\n",
    "    cropped_sequences = map(lambda seq_record: (seq_record[:1000]), sequences)\n",
    "    cropped_sequences = list(cropped_sequences)\n",
    "    return cropped_sequences\n",
    "\n",
    "\"\"\"\n",
    "fungsi ini akan menulis objek list record SeqIO untuk\n",
    "dijadikan menjadi file fasta pada direktori yang diinginkan\n",
    "\"\"\"\n",
    "def write_sequence_into_fasta(sequence, pathname):\n",
    "    with open(pathname, 'w') as f:\n",
    "        SeqIO.write(sequence, f, 'fasta')\n"
   ]
  },
  {
   "cell_type": "markdown",
   "metadata": {},
   "source": [
    "#### Usage Example\n",
    "below is an example code block that was used as a part of\n",
    "the research method"
   ]
  },
  {
   "cell_type": "code",
   "execution_count": 6,
   "metadata": {},
   "outputs": [],
   "source": [
    "# Search result 1\n",
    "# read input and search result fasta (the CDS fasta format)\n",
    "seq_search = read_fasta('./02-blast-search/search_result_1-cds.fasta')\n",
    "seq_input = read_fasta('./01-inputs/NC_045512.2-cds.fasta')\n",
    "\n",
    "# combine the input and search result fasta\n",
    "seq_merged = merge_sequences_list([seq_search, seq_input])\n",
    "\n",
    "# filter out by its protein code\n",
    "seq_orf1ab = filter_sequences_by_protein(seq_merged, \"ORF1ab polyprotein\")\n",
    "\n",
    "# cut first 1000 record\n",
    "seq_orf1ab_1000 = cut_sequences_length(seq_orf1ab, 1000)\n",
    "\n",
    "write_sequence_into_fasta(seq_orf1ab_1000, \"./example_working_directory/search_result_1_orf1ab_1000.fasta\")"
   ]
  },
  {
   "cell_type": "code",
   "execution_count": 7,
   "metadata": {},
   "outputs": [],
   "source": [
    "# Search result 2\n",
    "# read input and search result fasta (the CDS fasta format)\n",
    "seq_search = read_fasta('./02-blast-search/search_result_2-cds.fasta')\n",
    "seq_input = read_fasta('./01-inputs/OM065360.1-cds.fasta')\n",
    "\n",
    "# combine the input and search result fasta\n",
    "seq_merged = merge_sequences_list([seq_search, seq_input])\n",
    "\n",
    "# filter out by its protein code\n",
    "seq_orf1ab = filter_sequences_by_protein(seq_merged, \"ORF1ab polyprotein\")\n",
    "\n",
    "# cut first 1000 record\n",
    "seq_orf1ab_1000 = cut_sequences_length(seq_orf1ab, 1000)\n",
    "\n",
    "write_sequence_into_fasta(seq_orf1ab_1000, \"./example_working_directory/search_result_2_orf1ab_1000.fasta\")"
   ]
  },
  {
   "cell_type": "code",
   "execution_count": 14,
   "metadata": {},
   "outputs": [],
   "source": [
    "# Search result 3\n",
    "# read input and search result fasta (the CDS fasta format)\n",
    "seq_search = read_fasta('./02-blast-search/search_result_3-cds.fasta')\n",
    "seq_input = read_fasta('./01-inputs/OR184938.1_cds.fasta')\n",
    "\n",
    "# combine the input and search result fasta\n",
    "seq_merged = merge_sequences_list([seq_search, seq_input])\n",
    "\n",
    "# filter out by its protein code\n",
    "seq_orf1ab = filter_sequences_by_protein(seq_merged, \"ORF1ab polyprotein\")\n",
    "\n",
    "# cut first 1000 record\n",
    "seq_orf1ab_1000 = cut_sequences_length(seq_orf1ab, 1000)\n",
    "\n",
    "write_sequence_into_fasta(seq_orf1ab_1000, \"./example_working_directory/search_result_3_orf1ab_1000.fasta\")"
   ]
  },
  {
   "cell_type": "markdown",
   "metadata": {},
   "source": [
    "#### Aligning and tree construction\n",
    "The sequence then can be aligned using muscle program and the tree\n",
    "can be generated using biopython\n",
    "<br>\n",
    "[see the implementation on this notebook](./main_phylo.ipynb)"
   ]
  }
 ],
 "metadata": {
  "kernelspec": {
   "display_name": "s2-gnome-sequence-research",
   "language": "python",
   "name": "python3"
  },
  "language_info": {
   "codemirror_mode": {
    "name": "ipython",
    "version": 3
   },
   "file_extension": ".py",
   "mimetype": "text/x-python",
   "name": "python",
   "nbconvert_exporter": "python",
   "pygments_lexer": "ipython3",
   "version": "3.8.18"
  },
  "orig_nbformat": 4
 },
 "nbformat": 4,
 "nbformat_minor": 2
}
